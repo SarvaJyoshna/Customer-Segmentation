{
  "cells": [
    {
      "cell_type": "markdown",
      "metadata": {
        "id": "qd1VEUN5Zw8S"
      },
      "source": [
        "# Customer Segmentation in Python\n",
        "## Segmentation using K-Means clustering algorithm\n",
        "Suppose that we have a company that selling some of the product, and you want to know how well does the selling performance of the product.\n",
        "\n",
        "You have the data that can we analyze, but what kind of analysis that we can do? \n",
        "\n",
        "Well, we can segment customers based on their buying behaviour on the market. \n",
        "\n",
        "Keep in mind that the data is really huge, and we can not analyze it using a bare eye. We have to use machine learning algorithms and the power of computing for it.\n",
        "\n",
        "Let us see how to cluster customers on segments based on their behaviour using the K-Means algorithm in Python. \n",
        "\n",
        "A detailed description on how to do customer segmentation step-by-step from preparing the data to cluster it is given below.\n",
        "\n",
        "### Plan Of Attack\n",
        "Before we get into the process, I will give you a brief on what kind of steps we will get.\n",
        "- Gather the data\n",
        "- Pre-process the data\n",
        "- Explore the data\n",
        "- Cluster the data\n",
        "- Interpret the result\n",
        "\n",
        "### The Analysis"
      ]
    },
    {
      "cell_type": "markdown",
      "metadata": {
        "id": "L5LbcGsQZw8X"
      },
      "source": [
        "#### Gathering Data"
      ]
    },
    {
      "cell_type": "code",
      "execution_count": 9,
      "metadata": {
        "id": "Mfm1CMqcZw8Y"
      },
      "outputs": [],
      "source": [
        "# ! pip install xlrd\n",
        "import pandas as pd\n",
        "import matplotlib.pyplot as plt\n",
        "import numpy as np\n",
        "import seaborn as sns"
      ]
    },
    {
      "cell_type": "code",
      "execution_count": 2,
      "metadata": {
        "collapsed": true,
        "id": "6xvxtkwYZw8Y",
        "outputId": "fd577d7e-6389-45e2-ce89-f40ec6b0773e"
      },
      "outputs": [],
      "source": [
        "df = pd.read_excel('dataset.xlsx')"
      ]
    },
    {
      "cell_type": "code",
      "execution_count": 3,
      "metadata": {
        "id": "6GV1TFTcZw8Z"
      },
      "outputs": [],
      "source": [
        "df = df[df['CustomerID'].notna()]"
      ]
    },
    {
      "cell_type": "code",
      "execution_count": 4,
      "metadata": {
        "id": "A3pPsUdhZw8a",
        "outputId": "04282f0c-4287-4af5-fd6b-05eb4c620820"
      },
      "outputs": [
        {
          "data": {
            "text/plain": [
              "(10000, 8)"
            ]
          },
          "execution_count": 4,
          "metadata": {},
          "output_type": "execute_result"
        }
      ],
      "source": [
        "df_fix = df.sample(10000, random_state = 42)\n",
        "df_fix.shape"
      ]
    },
    {
      "cell_type": "code",
      "execution_count": 5,
      "metadata": {
        "id": "It3-fc4dZw8a",
        "outputId": "1412d9cc-1801-48f4-89ba-ec8977e909a5",
        "scrolled": true
      },
      "outputs": [
        {
          "data": {
            "text/html": [
              "<div>\n",
              "<style scoped>\n",
              "    .dataframe tbody tr th:only-of-type {\n",
              "        vertical-align: middle;\n",
              "    }\n",
              "\n",
              "    .dataframe tbody tr th {\n",
              "        vertical-align: top;\n",
              "    }\n",
              "\n",
              "    .dataframe thead th {\n",
              "        text-align: right;\n",
              "    }\n",
              "</style>\n",
              "<table border=\"1\" class=\"dataframe\">\n",
              "  <thead>\n",
              "    <tr style=\"text-align: right;\">\n",
              "      <th></th>\n",
              "      <th>InvoiceNo</th>\n",
              "      <th>StockCode</th>\n",
              "      <th>Description</th>\n",
              "      <th>Quantity</th>\n",
              "      <th>InvoiceDate</th>\n",
              "      <th>UnitPrice</th>\n",
              "      <th>CustomerID</th>\n",
              "      <th>Country</th>\n",
              "    </tr>\n",
              "  </thead>\n",
              "  <tbody>\n",
              "    <tr>\n",
              "      <th>47912</th>\n",
              "      <td>540456</td>\n",
              "      <td>48185</td>\n",
              "      <td>DOORMAT FAIRY CAKE</td>\n",
              "      <td>2</td>\n",
              "      <td>2011-01-07 12:14:00</td>\n",
              "      <td>7.95</td>\n",
              "      <td>13534.0</td>\n",
              "      <td>United Kingdom</td>\n",
              "    </tr>\n",
              "    <tr>\n",
              "      <th>342630</th>\n",
              "      <td>566891</td>\n",
              "      <td>23013</td>\n",
              "      <td>GLASS APOTHECARY BOTTLE TONIC</td>\n",
              "      <td>4</td>\n",
              "      <td>2011-09-15 13:51:00</td>\n",
              "      <td>3.95</td>\n",
              "      <td>14894.0</td>\n",
              "      <td>United Kingdom</td>\n",
              "    </tr>\n",
              "    <tr>\n",
              "      <th>288183</th>\n",
              "      <td>C562139</td>\n",
              "      <td>21313</td>\n",
              "      <td>GLASS HEART T-LIGHT HOLDER</td>\n",
              "      <td>-4</td>\n",
              "      <td>2011-08-03 10:10:00</td>\n",
              "      <td>0.85</td>\n",
              "      <td>12921.0</td>\n",
              "      <td>United Kingdom</td>\n",
              "    </tr>\n",
              "    <tr>\n",
              "      <th>325368</th>\n",
              "      <td>565438</td>\n",
              "      <td>22382</td>\n",
              "      <td>LUNCH BAG SPACEBOY DESIGN</td>\n",
              "      <td>4</td>\n",
              "      <td>2011-09-04 13:56:00</td>\n",
              "      <td>1.65</td>\n",
              "      <td>17229.0</td>\n",
              "      <td>United Kingdom</td>\n",
              "    </tr>\n",
              "    <tr>\n",
              "      <th>331450</th>\n",
              "      <td>566016</td>\n",
              "      <td>21212</td>\n",
              "      <td>PACK OF 72 RETROSPOT CAKE CASES</td>\n",
              "      <td>24</td>\n",
              "      <td>2011-09-08 12:20:00</td>\n",
              "      <td>0.55</td>\n",
              "      <td>15144.0</td>\n",
              "      <td>United Kingdom</td>\n",
              "    </tr>\n",
              "  </tbody>\n",
              "</table>\n",
              "</div>"
            ],
            "text/plain": [
              "       InvoiceNo StockCode                      Description  Quantity  \\\n",
              "47912     540456     48185               DOORMAT FAIRY CAKE         2   \n",
              "342630    566891     23013    GLASS APOTHECARY BOTTLE TONIC         4   \n",
              "288183   C562139     21313      GLASS HEART T-LIGHT HOLDER         -4   \n",
              "325368    565438     22382       LUNCH BAG SPACEBOY DESIGN          4   \n",
              "331450    566016     21212  PACK OF 72 RETROSPOT CAKE CASES        24   \n",
              "\n",
              "               InvoiceDate  UnitPrice  CustomerID         Country  \n",
              "47912  2011-01-07 12:14:00       7.95     13534.0  United Kingdom  \n",
              "342630 2011-09-15 13:51:00       3.95     14894.0  United Kingdom  \n",
              "288183 2011-08-03 10:10:00       0.85     12921.0  United Kingdom  \n",
              "325368 2011-09-04 13:56:00       1.65     17229.0  United Kingdom  \n",
              "331450 2011-09-08 12:20:00       0.55     15144.0  United Kingdom  "
            ]
          },
          "execution_count": 5,
          "metadata": {},
          "output_type": "execute_result"
        }
      ],
      "source": [
        "df_fix.head()"
      ]
    },
    {
      "cell_type": "markdown",
      "metadata": {
        "id": "v2f2SBY-Zw8a"
      },
      "source": [
        "### Data Preprocessing\n",
        "#### Create RFM Table"
      ]
    },
    {
      "cell_type": "code",
      "execution_count": 6,
      "metadata": {
        "collapsed": true,
        "id": "EgGiV5aOZw8b",
        "outputId": "e1fbd90f-158c-4f63-cb67-d84aecf7d25c"
      },
      "outputs": [],
      "source": [
        "# Convert to show date only\n",
        "from datetime import datetime\n",
        "df_fix[\"InvoiceDate\"] = df_fix[\"InvoiceDate\"].dt.date\n",
        "\n",
        "# Create TotalSum colummn\n",
        "df_fix[\"TotalSum\"] = df_fix[\"Quantity\"] * df_fix[\"UnitPrice\"]\n",
        "\n",
        "# Create date variable that records recency\n",
        "import datetime\n",
        "snapshot_date = max(df_fix.InvoiceDate) + datetime.timedelta(days=1)\n",
        "\n",
        "# Aggregate data by each customer\n",
        "customers = df_fix.groupby(['CustomerID']).agg({\n",
        "    'InvoiceDate': lambda x: (snapshot_date - x.max()).days,\n",
        "    'InvoiceNo': 'count',\n",
        "    'TotalSum': 'sum'})\n",
        "\n",
        "# Rename columns\n",
        "customers.rename(columns = {'InvoiceDate': 'Recency',\n",
        "                            'InvoiceNo': 'Frequency',\n",
        "                            'TotalSum': 'MonetaryValue'}, inplace=True)"
      ]
    },
    {
      "cell_type": "code",
      "execution_count": 7,
      "metadata": {
        "id": "EH5U5tsnZw8d",
        "outputId": "f029797e-5f1f-447a-9c20-61f4e57ad2a3",
        "scrolled": true
      },
      "outputs": [
        {
          "data": {
            "text/html": [
              "<div>\n",
              "<style scoped>\n",
              "    .dataframe tbody tr th:only-of-type {\n",
              "        vertical-align: middle;\n",
              "    }\n",
              "\n",
              "    .dataframe tbody tr th {\n",
              "        vertical-align: top;\n",
              "    }\n",
              "\n",
              "    .dataframe thead th {\n",
              "        text-align: right;\n",
              "    }\n",
              "</style>\n",
              "<table border=\"1\" class=\"dataframe\">\n",
              "  <thead>\n",
              "    <tr style=\"text-align: right;\">\n",
              "      <th></th>\n",
              "      <th>Recency</th>\n",
              "      <th>Frequency</th>\n",
              "      <th>MonetaryValue</th>\n",
              "    </tr>\n",
              "    <tr>\n",
              "      <th>CustomerID</th>\n",
              "      <th></th>\n",
              "      <th></th>\n",
              "      <th></th>\n",
              "    </tr>\n",
              "  </thead>\n",
              "  <tbody>\n",
              "    <tr>\n",
              "      <th>12347.0</th>\n",
              "      <td>40</td>\n",
              "      <td>5</td>\n",
              "      <td>133.20</td>\n",
              "    </tr>\n",
              "    <tr>\n",
              "      <th>12348.0</th>\n",
              "      <td>249</td>\n",
              "      <td>2</td>\n",
              "      <td>120.88</td>\n",
              "    </tr>\n",
              "    <tr>\n",
              "      <th>12349.0</th>\n",
              "      <td>19</td>\n",
              "      <td>2</td>\n",
              "      <td>312.75</td>\n",
              "    </tr>\n",
              "    <tr>\n",
              "      <th>12352.0</th>\n",
              "      <td>73</td>\n",
              "      <td>5</td>\n",
              "      <td>80.85</td>\n",
              "    </tr>\n",
              "    <tr>\n",
              "      <th>12354.0</th>\n",
              "      <td>233</td>\n",
              "      <td>2</td>\n",
              "      <td>33.30</td>\n",
              "    </tr>\n",
              "  </tbody>\n",
              "</table>\n",
              "</div>"
            ],
            "text/plain": [
              "            Recency  Frequency  MonetaryValue\n",
              "CustomerID                                   \n",
              "12347.0          40          5         133.20\n",
              "12348.0         249          2         120.88\n",
              "12349.0          19          2         312.75\n",
              "12352.0          73          5          80.85\n",
              "12354.0         233          2          33.30"
            ]
          },
          "execution_count": 7,
          "metadata": {},
          "output_type": "execute_result"
        }
      ],
      "source": [
        "customers.head()"
      ]
    },
    {
      "cell_type": "markdown",
      "metadata": {
        "id": "my6nQ5mKZw8e"
      },
      "source": [
        "#### Manage Skewness"
      ]
    },
    {
      "cell_type": "code",
      "execution_count": 10,
      "metadata": {
        "id": "9zVc_OvdZw8f",
        "outputId": "c28ae244-e17e-45e2-9dca-951a670a9394"
      },
      "outputs": [
        {
          "name": "stderr",
          "output_type": "stream",
          "text": [
            "c:\\Users\\jyoshna.sarva\\Anaconda3\\lib\\site-packages\\seaborn\\distributions.py:2619: FutureWarning: `distplot` is a deprecated function and will be removed in a future version. Please adapt your code to use either `displot` (a figure-level function with similar flexibility) or `histplot` (an axes-level function for histograms).\n",
            "  warnings.warn(msg, FutureWarning)\n",
            "c:\\Users\\jyoshna.sarva\\Anaconda3\\lib\\site-packages\\seaborn\\distributions.py:2619: FutureWarning: `distplot` is a deprecated function and will be removed in a future version. Please adapt your code to use either `displot` (a figure-level function with similar flexibility) or `histplot` (an axes-level function for histograms).\n",
            "  warnings.warn(msg, FutureWarning)\n",
            "c:\\Users\\jyoshna.sarva\\Anaconda3\\lib\\site-packages\\seaborn\\distributions.py:2619: FutureWarning: `distplot` is a deprecated function and will be removed in a future version. Please adapt your code to use either `displot` (a figure-level function with similar flexibility) or `histplot` (an axes-level function for histograms).\n",
            "  warnings.warn(msg, FutureWarning)\n"
          ]
        },
        {
          "data": {
            "image/png": "[encoded data removed]",
            "text/plain": [
              "<Figure size 1080x216 with 3 Axes>"
            ]
          },
          "metadata": {
            "needs_background": "light"
          },
          "output_type": "display_data"
        }
      ],
      "source": [
        "fig, ax = plt.subplots(1, 3, figsize=(15,3))\n",
        "sns.distplot(customers['Recency'], ax=ax[0])\n",
        "sns.distplot(customers['Frequency'], ax=ax[1])\n",
        "sns.distplot(customers['MonetaryValue'], ax=ax[2])\n",
        "plt.tight_layout()\n",
        "plt.show()"
      ]
    },
    {
      "cell_type": "code",
      "execution_count": 11,
      "metadata": {
        "id": "BgSdL5r-Zw8f"
      },
      "outputs": [],
      "source": [
        "from scipy import stats\n",
        "def analyze_skewness(x):\n",
        "    fig, ax = plt.subplots(2, 2, figsize=(5,5))\n",
        "    sns.distplot(customers[x], ax=ax[0,0])\n",
        "    sns.distplot(np.log(customers[x]), ax=ax[0,1])\n",
        "    sns.distplot(np.sqrt(customers[x]), ax=ax[1,0])\n",
        "    sns.distplot(stats.boxcox(customers[x])[0], ax=ax[1,1])\n",
        "    plt.tight_layout()\n",
        "    plt.show()\n",
        "    \n",
        "    print(customers[x].skew().round(2))\n",
        "    print(np.log(customers[x]).skew().round(2))\n",
        "    print(np.sqrt(customers[x]).skew().round(2))\n",
        "    print(pd.Series(stats.boxcox(customers[x])[0]).skew().round(2))"
      ]
    },
    {
      "cell_type": "code",
      "execution_count": 12,
      "metadata": {
        "id": "3Szuu72qZw8g",
        "outputId": "fdc0e93a-5871-4969-8087-cd10ab97d3c5"
      },
      "outputs": [
        {
          "name": "stderr",
          "output_type": "stream",
          "text": [
            "c:\\Users\\jyoshna.sarva\\Anaconda3\\lib\\site-packages\\seaborn\\distributions.py:2619: FutureWarning: `distplot` is a deprecated function and will be removed in a future version. Please adapt your code to use either `displot` (a figure-level function with similar flexibility) or `histplot` (an axes-level function for histograms).\n",
            "  warnings.warn(msg, FutureWarning)\n",
            "c:\\Users\\jyoshna.sarva\\Anaconda3\\lib\\site-packages\\seaborn\\distributions.py:2619: FutureWarning: `distplot` is a deprecated function and will be removed in a future version. Please adapt your code to use either `displot` (a figure-level function with similar flexibility) or `histplot` (an axes-level function for histograms).\n",
            "  warnings.warn(msg, FutureWarning)\n",
            "c:\\Users\\jyoshna.sarva\\Anaconda3\\lib\\site-packages\\seaborn\\distributions.py:2619: FutureWarning: `distplot` is a deprecated function and will be removed in a future version. Please adapt your code to use either `displot` (a figure-level function with similar flexibility) or `histplot` (an axes-level function for histograms).\n",
            "  warnings.warn(msg, FutureWarning)\n",
            "c:\\Users\\jyoshna.sarva\\Anaconda3\\lib\\site-packages\\seaborn\\distributions.py:2619: FutureWarning: `distplot` is a deprecated function and will be removed in a future version. Please adapt your code to use either `displot` (a figure-level function with similar flexibility) or `histplot` (an axes-level function for histograms).\n",
            "  warnings.warn(msg, FutureWarning)\n"
          ]
        },
        {
          "data": {
            "image/png": "[encoded data removed]",
            "text/plain": [
              "<Figure size 360x360 with 4 Axes>"
            ]
          },
          "metadata": {
            "needs_background": "light"
          },
          "output_type": "display_data"
        },
        {
          "name": "stdout",
          "output_type": "stream",
          "text": [
            "0.93\n",
            "-0.72\n",
            "0.32\n",
            "-0.1\n"
          ]
        }
      ],
      "source": [
        "analyze_skewness('Recency')"
      ]
    },
    {
      "cell_type": "code",
      "execution_count": 13,
      "metadata": {
        "id": "_-ImYGJ3Zw8g",
        "outputId": "47db51cc-4f38-427e-be41-b7c89f6ca549",
        "scrolled": false
      },
      "outputs": [
        {
          "name": "stderr",
          "output_type": "stream",
          "text": [
            "c:\\Users\\jyoshna.sarva\\Anaconda3\\lib\\site-packages\\seaborn\\distributions.py:2619: FutureWarning: `distplot` is a deprecated function and will be removed in a future version. Please adapt your code to use either `displot` (a figure-level function with similar flexibility) or `histplot` (an axes-level function for histograms).\n",
            "  warnings.warn(msg, FutureWarning)\n",
            "c:\\Users\\jyoshna.sarva\\Anaconda3\\lib\\site-packages\\seaborn\\distributions.py:2619: FutureWarning: `distplot` is a deprecated function and will be removed in a future version. Please adapt your code to use either `displot` (a figure-level function with similar flexibility) or `histplot` (an axes-level function for histograms).\n",
            "  warnings.warn(msg, FutureWarning)\n",
            "c:\\Users\\jyoshna.sarva\\Anaconda3\\lib\\site-packages\\seaborn\\distributions.py:2619: FutureWarning: `distplot` is a deprecated function and will be removed in a future version. Please adapt your code to use either `displot` (a figure-level function with similar flexibility) or `histplot` (an axes-level function for histograms).\n",
            "  warnings.warn(msg, FutureWarning)\n",
            "c:\\Users\\jyoshna.sarva\\Anaconda3\\lib\\site-packages\\seaborn\\distributions.py:2619: FutureWarning: `distplot` is a deprecated function and will be removed in a future version. Please adapt your code to use either `displot` (a figure-level function with similar flexibility) or `histplot` (an axes-level function for histograms).\n",
            "  warnings.warn(msg, FutureWarning)\n"
          ]
        },
        {
          "data": {
            "image/png": "[encoded data removed]",
            "text/plain": [
              "<Figure size 360x360 with 4 Axes>"
            ]
          },
          "metadata": {
            "needs_background": "light"
          },
          "output_type": "display_data"
        },
        {
          "name": "stdout",
          "output_type": "stream",
          "text": [
            "14.77\n",
            "0.85\n",
            "3.67\n",
            "0.16\n"
          ]
        }
      ],
      "source": [
        "analyze_skewness('Frequency')"
      ]
    },
    {
      "cell_type": "code",
      "execution_count": 14,
      "metadata": {
        "id": "JJqE2jBHZw8g",
        "outputId": "67f3283e-f055-410a-a1ac-bfc40097beb9",
        "scrolled": false
      },
      "outputs": [
        {
          "name": "stderr",
          "output_type": "stream",
          "text": [
            "c:\\Users\\jyoshna.sarva\\Anaconda3\\lib\\site-packages\\seaborn\\distributions.py:2619: FutureWarning: `distplot` is a deprecated function and will be removed in a future version. Please adapt your code to use either `displot` (a figure-level function with similar flexibility) or `histplot` (an axes-level function for histograms).\n",
            "  warnings.warn(msg, FutureWarning)\n",
            "c:\\Users\\jyoshna.sarva\\Anaconda3\\lib\\site-packages\\seaborn\\distributions.py:2619: FutureWarning: `distplot` is a deprecated function and will be removed in a future version. Please adapt your code to use either `displot` (a figure-level function with similar flexibility) or `histplot` (an axes-level function for histograms).\n",
            "  warnings.warn(msg, FutureWarning)\n"
          ]
        },
        {
          "data": {
            "image/png": "[encoded data removed]",
            "text/plain": [
              "<Figure size 720x216 with 2 Axes>"
            ]
          },
          "metadata": {
            "needs_background": "light"
          },
          "output_type": "display_data"
        },
        {
          "name": "stdout",
          "output_type": "stream",
          "text": [
            "16.63\n",
            "1.16\n"
          ]
        }
      ],
      "source": [
        "fig, ax = plt.subplots(1, 2, figsize=(10,3))\n",
        "sns.distplot(customers['MonetaryValue'], ax=ax[0])\n",
        "sns.distplot(np.cbrt(customers['MonetaryValue']), ax=ax[1])\n",
        "plt.show()\n",
        "print(customers['MonetaryValue'].skew().round(2))\n",
        "print(np.cbrt(customers['MonetaryValue']).skew().round(2))"
      ]
    },
    {
      "cell_type": "code",
      "execution_count": 15,
      "metadata": {
        "id": "XCO85I1RZw8h",
        "outputId": "c5aa761d-822c-4bf8-b9ef-858ca88abf0c"
      },
      "outputs": [
        {
          "data": {
            "text/plain": [
              "array([ 5.10702607,  4.94445183,  6.78785317, ..., -1.66910753,\n",
              "        4.27320639,  4.0872497 ])"
            ]
          },
          "execution_count": 15,
          "metadata": {},
          "output_type": "execute_result"
        }
      ],
      "source": [
        "pd.Series(np.cbrt(customers['MonetaryValue'])).values"
      ]
    },
    {
      "cell_type": "code",
      "execution_count": 16,
      "metadata": {
        "id": "j3JIGk3JZw8h",
        "outputId": "3e794e87-fb50-42f2-960d-6e2c60614db1",
        "scrolled": false
      },
      "outputs": [
        {
          "data": {
            "text/html": [
              "<div>\n",
              "<style scoped>\n",
              "    .dataframe tbody tr th:only-of-type {\n",
              "        vertical-align: middle;\n",
              "    }\n",
              "\n",
              "    .dataframe tbody tr th {\n",
              "        vertical-align: top;\n",
              "    }\n",
              "\n",
              "    .dataframe thead th {\n",
              "        text-align: right;\n",
              "    }\n",
              "</style>\n",
              "<table border=\"1\" class=\"dataframe\">\n",
              "  <thead>\n",
              "    <tr style=\"text-align: right;\">\n",
              "      <th></th>\n",
              "      <th>Recency</th>\n",
              "      <th>Frequency</th>\n",
              "      <th>MonetaryValue</th>\n",
              "    </tr>\n",
              "  </thead>\n",
              "  <tbody>\n",
              "    <tr>\n",
              "      <th>2685</th>\n",
              "      <td>7.832068</td>\n",
              "      <td>0.591193</td>\n",
              "      <td>3.408514</td>\n",
              "    </tr>\n",
              "    <tr>\n",
              "      <th>2686</th>\n",
              "      <td>1.269495</td>\n",
              "      <td>1.435599</td>\n",
              "      <td>5.907565</td>\n",
              "    </tr>\n",
              "    <tr>\n",
              "      <th>2687</th>\n",
              "      <td>4.288385</td>\n",
              "      <td>0.591193</td>\n",
              "      <td>-1.669108</td>\n",
              "    </tr>\n",
              "    <tr>\n",
              "      <th>2688</th>\n",
              "      <td>1.665555</td>\n",
              "      <td>1.615329</td>\n",
              "      <td>4.273206</td>\n",
              "    </tr>\n",
              "    <tr>\n",
              "      <th>2689</th>\n",
              "      <td>6.340700</td>\n",
              "      <td>1.017445</td>\n",
              "      <td>4.087250</td>\n",
              "    </tr>\n",
              "  </tbody>\n",
              "</table>\n",
              "</div>"
            ],
            "text/plain": [
              "       Recency  Frequency  MonetaryValue\n",
              "2685  7.832068   0.591193       3.408514\n",
              "2686  1.269495   1.435599       5.907565\n",
              "2687  4.288385   0.591193      -1.669108\n",
              "2688  1.665555   1.615329       4.273206\n",
              "2689  6.340700   1.017445       4.087250"
            ]
          },
          "execution_count": 16,
          "metadata": {},
          "output_type": "execute_result"
        }
      ],
      "source": [
        "# Set the Numbers\n",
        "customers_fix = pd.DataFrame()\n",
        "customers_fix[\"Recency\"] = stats.boxcox(customers['Recency'])[0]\n",
        "customers_fix[\"Frequency\"] = stats.boxcox(customers['Frequency'])[0]\n",
        "customers_fix[\"MonetaryValue\"] = pd.Series(np.cbrt(customers['MonetaryValue'])).values\n",
        "customers_fix.tail()"
      ]
    },
    {
      "cell_type": "markdown",
      "metadata": {
        "id": "LgUKDYvBZw8h"
      },
      "source": [
        "#### Centering and Scaling Variables"
      ]
    },
    {
      "cell_type": "code",
      "execution_count": 17,
      "metadata": {
        "id": "GAzM-BoHZw8i",
        "outputId": "6fa6da8e-2ac7-4b12-f609-5e52a4e83035"
      },
      "outputs": [
        {
          "name": "stdout",
          "output_type": "stream",
          "text": [
            "[ 0. -0.  0.]\n",
            "[1. 1. 1.]\n"
          ]
        }
      ],
      "source": [
        "from sklearn.preprocessing import StandardScaler\n",
        "scaler = StandardScaler()\n",
        "scaler.fit(customers_fix)\n",
        "customers_normalized = scaler.transform(customers_fix)\n",
        "print(customers_normalized.mean(axis = 0).round(2))\n",
        "print(customers_normalized.std(axis = 0).round(2))"
      ]
    },
    {
      "cell_type": "code",
      "execution_count": 18,
      "metadata": {
        "id": "mb-5139pZw8i",
        "outputId": "4ee2a378-80b4-4cf9-a638-e480dd220537"
      },
      "outputs": [
        {
          "data": {
            "text/html": [
              "<div>\n",
              "<style scoped>\n",
              "    .dataframe tbody tr th:only-of-type {\n",
              "        vertical-align: middle;\n",
              "    }\n",
              "\n",
              "    .dataframe tbody tr th {\n",
              "        vertical-align: top;\n",
              "    }\n",
              "\n",
              "    .dataframe thead th {\n",
              "        text-align: right;\n",
              "    }\n",
              "</style>\n",
              "<table border=\"1\" class=\"dataframe\">\n",
              "  <thead>\n",
              "    <tr style=\"text-align: right;\">\n",
              "      <th></th>\n",
              "      <th>0</th>\n",
              "      <th>1</th>\n",
              "      <th>2</th>\n",
              "    </tr>\n",
              "  </thead>\n",
              "  <tbody>\n",
              "    <tr>\n",
              "      <th>0</th>\n",
              "      <td>-0.493794</td>\n",
              "      <td>1.012426</td>\n",
              "      <td>1.017503</td>\n",
              "    </tr>\n",
              "    <tr>\n",
              "      <th>1</th>\n",
              "      <td>1.232949</td>\n",
              "      <td>-0.017412</td>\n",
              "      <td>0.925115</td>\n",
              "    </tr>\n",
              "    <tr>\n",
              "      <th>2</th>\n",
              "      <td>-0.994917</td>\n",
              "      <td>-0.017412</td>\n",
              "      <td>1.972690</td>\n",
              "    </tr>\n",
              "    <tr>\n",
              "      <th>3</th>\n",
              "      <td>-0.012582</td>\n",
              "      <td>1.012426</td>\n",
              "      <td>0.572565</td>\n",
              "    </tr>\n",
              "    <tr>\n",
              "      <th>4</th>\n",
              "      <td>1.155005</td>\n",
              "      <td>-0.017412</td>\n",
              "      <td>-0.056441</td>\n",
              "    </tr>\n",
              "  </tbody>\n",
              "</table>\n",
              "</div>"
            ],
            "text/plain": [
              "          0         1         2\n",
              "0 -0.493794  1.012426  1.017503\n",
              "1  1.232949 -0.017412  0.925115\n",
              "2 -0.994917 -0.017412  1.972690\n",
              "3 -0.012582  1.012426  0.572565\n",
              "4  1.155005 -0.017412 -0.056441"
            ]
          },
          "execution_count": 18,
          "metadata": {},
          "output_type": "execute_result"
        }
      ],
      "source": [
        "pd.DataFrame(customers_normalized).head()"
      ]
    },
    {
      "cell_type": "markdown",
      "metadata": {
        "id": "enl4by6nZw8i"
      },
      "source": [
        "### Modelling\n",
        "#### Choose k-number"
      ]
    },
    {
      "cell_type": "code",
      "execution_count": 19,
      "metadata": {
        "id": "_BxHATMHZw8i",
        "outputId": "d800049c-7f36-4ac4-cf0d-a34e5bbf03b1",
        "scrolled": true
      },
      "outputs": [
        {
          "data": {
            "image/png": "[encoded data removed]",
            "text/plain": [
              "<Figure size 432x288 with 1 Axes>"
            ]
          },
          "metadata": {
            "needs_background": "light"
          },
          "output_type": "display_data"
        }
      ],
      "source": [
        "from sklearn.cluster import KMeans\n",
        "\n",
        "sse = {}\n",
        "for k in range(1, 11):\n",
        "    kmeans = KMeans(n_clusters=k, random_state=42)\n",
        "    kmeans.fit(customers_normalized)\n",
        "    sse[k] = kmeans.inertia_ # SSE to closest cluster centroid\n",
        "\n",
        "plt.title('The Elbow Method')\n",
        "plt.xlabel('k')\n",
        "plt.ylabel('SSE')\n",
        "sns.pointplot(x=list(sse.keys()), y=list(sse.values()))\n",
        "plt.show()"
      ]
    },
    {
      "cell_type": "code",
      "execution_count": 20,
      "metadata": {
        "id": "VDpkoBpeZw8j",
        "outputId": "8f7bb3dc-fe31-445a-f626-5f06ff01e903"
      },
      "outputs": [
        {
          "data": {
            "text/plain": [
              "(2690,)"
            ]
          },
          "execution_count": 20,
          "metadata": {},
          "output_type": "execute_result"
        }
      ],
      "source": [
        "model = KMeans(n_clusters=3, random_state=42)\n",
        "model.fit(customers_normalized)\n",
        "model.labels_.shape"
      ]
    },
    {
      "cell_type": "code",
      "execution_count": 21,
      "metadata": {
        "id": "2a19iXnJZw8j",
        "outputId": "62d97990-a3c2-4d44-80e8-2729d6a87996"
      },
      "outputs": [
        {
          "data": {
            "text/plain": [
              "(2690, 3)"
            ]
          },
          "execution_count": 21,
          "metadata": {},
          "output_type": "execute_result"
        }
      ],
      "source": [
        "customers.shape"
      ]
    },
    {
      "cell_type": "markdown",
      "metadata": {
        "id": "SxydQyWSZw8j"
      },
      "source": [
        "### Cluster Analysis"
      ]
    },
    {
      "cell_type": "code",
      "execution_count": 22,
      "metadata": {
        "id": "chRXjI26Zw8j",
        "outputId": "6c3de864-4aa5-4b9c-a03a-b3f2c4c1dfbe",
        "scrolled": true
      },
      "outputs": [
        {
          "data": {
            "text/html": [
              "<div>\n",
              "<style scoped>\n",
              "    .dataframe tbody tr th:only-of-type {\n",
              "        vertical-align: middle;\n",
              "    }\n",
              "\n",
              "    .dataframe tbody tr th {\n",
              "        vertical-align: top;\n",
              "    }\n",
              "\n",
              "    .dataframe thead th {\n",
              "        text-align: right;\n",
              "    }\n",
              "</style>\n",
              "<table border=\"1\" class=\"dataframe\">\n",
              "  <thead>\n",
              "    <tr style=\"text-align: right;\">\n",
              "      <th></th>\n",
              "      <th>Recency</th>\n",
              "      <th>Frequency</th>\n",
              "      <th>MonetaryValue</th>\n",
              "      <th>Cluster</th>\n",
              "    </tr>\n",
              "    <tr>\n",
              "      <th>CustomerID</th>\n",
              "      <th></th>\n",
              "      <th></th>\n",
              "      <th></th>\n",
              "      <th></th>\n",
              "    </tr>\n",
              "  </thead>\n",
              "  <tbody>\n",
              "    <tr>\n",
              "      <th>12347.0</th>\n",
              "      <td>40</td>\n",
              "      <td>5</td>\n",
              "      <td>133.20</td>\n",
              "      <td>0</td>\n",
              "    </tr>\n",
              "    <tr>\n",
              "      <th>12348.0</th>\n",
              "      <td>249</td>\n",
              "      <td>2</td>\n",
              "      <td>120.88</td>\n",
              "      <td>2</td>\n",
              "    </tr>\n",
              "    <tr>\n",
              "      <th>12349.0</th>\n",
              "      <td>19</td>\n",
              "      <td>2</td>\n",
              "      <td>312.75</td>\n",
              "      <td>0</td>\n",
              "    </tr>\n",
              "    <tr>\n",
              "      <th>12352.0</th>\n",
              "      <td>73</td>\n",
              "      <td>5</td>\n",
              "      <td>80.85</td>\n",
              "      <td>0</td>\n",
              "    </tr>\n",
              "    <tr>\n",
              "      <th>12354.0</th>\n",
              "      <td>233</td>\n",
              "      <td>2</td>\n",
              "      <td>33.30</td>\n",
              "      <td>2</td>\n",
              "    </tr>\n",
              "  </tbody>\n",
              "</table>\n",
              "</div>"
            ],
            "text/plain": [
              "            Recency  Frequency  MonetaryValue  Cluster\n",
              "CustomerID                                            \n",
              "12347.0          40          5         133.20        0\n",
              "12348.0         249          2         120.88        2\n",
              "12349.0          19          2         312.75        0\n",
              "12352.0          73          5          80.85        0\n",
              "12354.0         233          2          33.30        2"
            ]
          },
          "execution_count": 22,
          "metadata": {},
          "output_type": "execute_result"
        }
      ],
      "source": [
        "customers[\"Cluster\"] = model.labels_\n",
        "customers.head()"
      ]
    },
    {
      "cell_type": "code",
      "execution_count": 23,
      "metadata": {
        "id": "Iug3ph5fZw8j",
        "outputId": "50356755-5242-48c3-80db-36e924c7e373",
        "scrolled": true
      },
      "outputs": [
        {
          "data": {
            "text/html": [
              "<div>\n",
              "<style scoped>\n",
              "    .dataframe tbody tr th:only-of-type {\n",
              "        vertical-align: middle;\n",
              "    }\n",
              "\n",
              "    .dataframe tbody tr th {\n",
              "        vertical-align: top;\n",
              "    }\n",
              "\n",
              "    .dataframe thead tr th {\n",
              "        text-align: left;\n",
              "    }\n",
              "\n",
              "    .dataframe thead tr:last-of-type th {\n",
              "        text-align: right;\n",
              "    }\n",
              "</style>\n",
              "<table border=\"1\" class=\"dataframe\">\n",
              "  <thead>\n",
              "    <tr>\n",
              "      <th></th>\n",
              "      <th>Recency</th>\n",
              "      <th>Frequency</th>\n",
              "      <th colspan=\"2\" halign=\"left\">MonetaryValue</th>\n",
              "    </tr>\n",
              "    <tr>\n",
              "      <th></th>\n",
              "      <th>mean</th>\n",
              "      <th>mean</th>\n",
              "      <th>mean</th>\n",
              "      <th>count</th>\n",
              "    </tr>\n",
              "    <tr>\n",
              "      <th>Cluster</th>\n",
              "      <th></th>\n",
              "      <th></th>\n",
              "      <th></th>\n",
              "      <th></th>\n",
              "    </tr>\n",
              "  </thead>\n",
              "  <tbody>\n",
              "    <tr>\n",
              "      <th>0</th>\n",
              "      <td>46.2</td>\n",
              "      <td>7.7</td>\n",
              "      <td>165.8</td>\n",
              "      <td>924</td>\n",
              "    </tr>\n",
              "    <tr>\n",
              "      <th>1</th>\n",
              "      <td>47.6</td>\n",
              "      <td>1.6</td>\n",
              "      <td>21.5</td>\n",
              "      <td>811</td>\n",
              "    </tr>\n",
              "    <tr>\n",
              "      <th>2</th>\n",
              "      <td>227.3</td>\n",
              "      <td>1.6</td>\n",
              "      <td>28.7</td>\n",
              "      <td>955</td>\n",
              "    </tr>\n",
              "  </tbody>\n",
              "</table>\n",
              "</div>"
            ],
            "text/plain": [
              "        Recency Frequency MonetaryValue      \n",
              "           mean      mean          mean count\n",
              "Cluster                                      \n",
              "0          46.2       7.7         165.8   924\n",
              "1          47.6       1.6          21.5   811\n",
              "2         227.3       1.6          28.7   955"
            ]
          },
          "execution_count": 23,
          "metadata": {},
          "output_type": "execute_result"
        }
      ],
      "source": [
        "customers.groupby('Cluster').agg({\n",
        "    'Recency':'mean',\n",
        "    'Frequency':'mean',\n",
        "    'MonetaryValue':['mean', 'count']}).round(1)"
      ]
    },
    {
      "cell_type": "markdown",
      "metadata": {
        "id": "bZ6zsVIzZw8j"
      },
      "source": [
        "### Snake Plots"
      ]
    },
    {
      "cell_type": "code",
      "execution_count": 24,
      "metadata": {
        "id": "pkIwCj6CZw8k",
        "outputId": "55dde1e2-3c6c-4e25-bafe-9e557afc9f79"
      },
      "outputs": [
        {
          "data": {
            "text/html": [
              "<div>\n",
              "<style scoped>\n",
              "    .dataframe tbody tr th:only-of-type {\n",
              "        vertical-align: middle;\n",
              "    }\n",
              "\n",
              "    .dataframe tbody tr th {\n",
              "        vertical-align: top;\n",
              "    }\n",
              "\n",
              "    .dataframe thead th {\n",
              "        text-align: right;\n",
              "    }\n",
              "</style>\n",
              "<table border=\"1\" class=\"dataframe\">\n",
              "  <thead>\n",
              "    <tr style=\"text-align: right;\">\n",
              "      <th></th>\n",
              "      <th>Recency</th>\n",
              "      <th>Frequency</th>\n",
              "      <th>MonetaryValue</th>\n",
              "      <th>ID</th>\n",
              "      <th>Cluster</th>\n",
              "    </tr>\n",
              "  </thead>\n",
              "  <tbody>\n",
              "    <tr>\n",
              "      <th>0</th>\n",
              "      <td>-0.493794</td>\n",
              "      <td>1.012426</td>\n",
              "      <td>1.017503</td>\n",
              "      <td>12347.0</td>\n",
              "      <td>0</td>\n",
              "    </tr>\n",
              "    <tr>\n",
              "      <th>1</th>\n",
              "      <td>1.232949</td>\n",
              "      <td>-0.017412</td>\n",
              "      <td>0.925115</td>\n",
              "      <td>12348.0</td>\n",
              "      <td>2</td>\n",
              "    </tr>\n",
              "    <tr>\n",
              "      <th>2</th>\n",
              "      <td>-0.994917</td>\n",
              "      <td>-0.017412</td>\n",
              "      <td>1.972690</td>\n",
              "      <td>12349.0</td>\n",
              "      <td>0</td>\n",
              "    </tr>\n",
              "    <tr>\n",
              "      <th>3</th>\n",
              "      <td>-0.012582</td>\n",
              "      <td>1.012426</td>\n",
              "      <td>0.572565</td>\n",
              "      <td>12352.0</td>\n",
              "      <td>0</td>\n",
              "    </tr>\n",
              "    <tr>\n",
              "      <th>4</th>\n",
              "      <td>1.155005</td>\n",
              "      <td>-0.017412</td>\n",
              "      <td>-0.056441</td>\n",
              "      <td>12354.0</td>\n",
              "      <td>2</td>\n",
              "    </tr>\n",
              "  </tbody>\n",
              "</table>\n",
              "</div>"
            ],
            "text/plain": [
              "    Recency  Frequency  MonetaryValue       ID  Cluster\n",
              "0 -0.493794   1.012426       1.017503  12347.0        0\n",
              "1  1.232949  -0.017412       0.925115  12348.0        2\n",
              "2 -0.994917  -0.017412       1.972690  12349.0        0\n",
              "3 -0.012582   1.012426       0.572565  12352.0        0\n",
              "4  1.155005  -0.017412      -0.056441  12354.0        2"
            ]
          },
          "execution_count": 24,
          "metadata": {},
          "output_type": "execute_result"
        }
      ],
      "source": [
        "df_normalized = pd.DataFrame(customers_normalized, columns=['Recency', 'Frequency', 'MonetaryValue'])\n",
        "df_normalized['ID'] = customers.index\n",
        "df_normalized['Cluster'] = model.labels_\n",
        "df_normalized.head()"
      ]
    },
    {
      "cell_type": "code",
      "execution_count": 25,
      "metadata": {
        "id": "XMOPRCrGZw8k",
        "outputId": "13342ab5-3320-43fc-b6fb-a71f1392382c"
      },
      "outputs": [
        {
          "data": {
            "text/html": [
              "<div>\n",
              "<style scoped>\n",
              "    .dataframe tbody tr th:only-of-type {\n",
              "        vertical-align: middle;\n",
              "    }\n",
              "\n",
              "    .dataframe tbody tr th {\n",
              "        vertical-align: top;\n",
              "    }\n",
              "\n",
              "    .dataframe thead th {\n",
              "        text-align: right;\n",
              "    }\n",
              "</style>\n",
              "<table border=\"1\" class=\"dataframe\">\n",
              "  <thead>\n",
              "    <tr style=\"text-align: right;\">\n",
              "      <th></th>\n",
              "      <th>ID</th>\n",
              "      <th>Cluster</th>\n",
              "      <th>Attribute</th>\n",
              "      <th>Value</th>\n",
              "    </tr>\n",
              "  </thead>\n",
              "  <tbody>\n",
              "    <tr>\n",
              "      <th>0</th>\n",
              "      <td>12347.0</td>\n",
              "      <td>0</td>\n",
              "      <td>Recency</td>\n",
              "      <td>-0.493794</td>\n",
              "    </tr>\n",
              "    <tr>\n",
              "      <th>1</th>\n",
              "      <td>12348.0</td>\n",
              "      <td>2</td>\n",
              "      <td>Recency</td>\n",
              "      <td>1.232949</td>\n",
              "    </tr>\n",
              "    <tr>\n",
              "      <th>2</th>\n",
              "      <td>12349.0</td>\n",
              "      <td>0</td>\n",
              "      <td>Recency</td>\n",
              "      <td>-0.994917</td>\n",
              "    </tr>\n",
              "    <tr>\n",
              "      <th>3</th>\n",
              "      <td>12352.0</td>\n",
              "      <td>0</td>\n",
              "      <td>Recency</td>\n",
              "      <td>-0.012582</td>\n",
              "    </tr>\n",
              "    <tr>\n",
              "      <th>4</th>\n",
              "      <td>12354.0</td>\n",
              "      <td>2</td>\n",
              "      <td>Recency</td>\n",
              "      <td>1.155005</td>\n",
              "    </tr>\n",
              "  </tbody>\n",
              "</table>\n",
              "</div>"
            ],
            "text/plain": [
              "        ID  Cluster Attribute     Value\n",
              "0  12347.0        0   Recency -0.493794\n",
              "1  12348.0        2   Recency  1.232949\n",
              "2  12349.0        0   Recency -0.994917\n",
              "3  12352.0        0   Recency -0.012582\n",
              "4  12354.0        2   Recency  1.155005"
            ]
          },
          "execution_count": 25,
          "metadata": {},
          "output_type": "execute_result"
        }
      ],
      "source": [
        "# Melt The Data\n",
        "df_nor_melt = pd.melt(df_normalized.reset_index(),\n",
        "                      id_vars=['ID', 'Cluster'],\n",
        "                      value_vars=['Recency','Frequency','MonetaryValue'],\n",
        "                      var_name='Attribute',\n",
        "                      value_name='Value')\n",
        "df_nor_melt.head()"
      ]
    },
    {
      "cell_type": "code",
      "execution_count": 26,
      "metadata": {
        "id": "QWw1AEyaZw8k",
        "outputId": "9463fdf1-1bd8-4dba-fd9f-1c6c813f820c"
      },
      "outputs": [
        {
          "name": "stderr",
          "output_type": "stream",
          "text": [
            "c:\\Users\\jyoshna.sarva\\Anaconda3\\lib\\site-packages\\seaborn\\_decorators.py:36: FutureWarning: Pass the following variables as keyword args: x, y. From version 0.12, the only valid positional argument will be `data`, and passing other arguments without an explicit keyword will result in an error or misinterpretation.\n",
            "  warnings.warn(\n"
          ]
        },
        {
          "data": {
            "text/plain": [
              "<AxesSubplot:xlabel='Attribute', ylabel='Value'>"
            ]
          },
          "execution_count": 26,
          "metadata": {},
          "output_type": "execute_result"
        },
        {
          "data": {
            "image/png": "[encoded data removed]",
            "text/plain": [
              "<Figure size 432x288 with 1 Axes>"
            ]
          },
          "metadata": {
            "needs_background": "light"
          },
          "output_type": "display_data"
        }
      ],
      "source": [
        "sns.lineplot('Attribute', 'Value', hue='Cluster', data=df_nor_melt)"
      ]
    },
    {
      "cell_type": "code",
      "execution_count": 27,
      "metadata": {
        "id": "6nrXrixDZw8m",
        "outputId": "38b383a4-7dc9-464b-f96d-f1357cea0891"
      },
      "outputs": [
        {
          "data": {
            "text/html": [
              "<div>\n",
              "<style scoped>\n",
              "    .dataframe tbody tr th:only-of-type {\n",
              "        vertical-align: middle;\n",
              "    }\n",
              "\n",
              "    .dataframe tbody tr th {\n",
              "        vertical-align: top;\n",
              "    }\n",
              "\n",
              "    .dataframe thead tr th {\n",
              "        text-align: left;\n",
              "    }\n",
              "\n",
              "    .dataframe thead tr:last-of-type th {\n",
              "        text-align: right;\n",
              "    }\n",
              "</style>\n",
              "<table border=\"1\" class=\"dataframe\">\n",
              "  <thead>\n",
              "    <tr>\n",
              "      <th></th>\n",
              "      <th>Recency</th>\n",
              "      <th>Frequency</th>\n",
              "      <th colspan=\"2\" halign=\"left\">MonetaryValue</th>\n",
              "    </tr>\n",
              "    <tr>\n",
              "      <th></th>\n",
              "      <th>mean</th>\n",
              "      <th>mean</th>\n",
              "      <th>mean</th>\n",
              "      <th>count</th>\n",
              "    </tr>\n",
              "    <tr>\n",
              "      <th>Cluster</th>\n",
              "      <th></th>\n",
              "      <th></th>\n",
              "      <th></th>\n",
              "      <th></th>\n",
              "    </tr>\n",
              "  </thead>\n",
              "  <tbody>\n",
              "    <tr>\n",
              "      <th>0</th>\n",
              "      <td>46.2</td>\n",
              "      <td>7.7</td>\n",
              "      <td>165.8</td>\n",
              "      <td>924</td>\n",
              "    </tr>\n",
              "    <tr>\n",
              "      <th>1</th>\n",
              "      <td>47.6</td>\n",
              "      <td>1.6</td>\n",
              "      <td>21.5</td>\n",
              "      <td>811</td>\n",
              "    </tr>\n",
              "    <tr>\n",
              "      <th>2</th>\n",
              "      <td>227.3</td>\n",
              "      <td>1.6</td>\n",
              "      <td>28.7</td>\n",
              "      <td>955</td>\n",
              "    </tr>\n",
              "  </tbody>\n",
              "</table>\n",
              "</div>"
            ],
            "text/plain": [
              "        Recency Frequency MonetaryValue      \n",
              "           mean      mean          mean count\n",
              "Cluster                                      \n",
              "0          46.2       7.7         165.8   924\n",
              "1          47.6       1.6          21.5   811\n",
              "2         227.3       1.6          28.7   955"
            ]
          },
          "execution_count": 27,
          "metadata": {},
          "output_type": "execute_result"
        }
      ],
      "source": [
        "customers.groupby('Cluster').agg({\n",
        "    'Recency':'mean',\n",
        "    'Frequency':'mean',\n",
        "    'MonetaryValue':['mean', 'count']}).round(1)"
      ]
    },
    {
      "cell_type": "code",
      "execution_count": 28,
      "metadata": {
        "id": "n6cmxbTOZw8m",
        "outputId": "281a8382-597b-478d-ce9f-31c58bee26da"
      },
      "outputs": [
        {
          "data": {
            "text/html": [
              "<div>\n",
              "<style scoped>\n",
              "    .dataframe tbody tr th:only-of-type {\n",
              "        vertical-align: middle;\n",
              "    }\n",
              "\n",
              "    .dataframe tbody tr th {\n",
              "        vertical-align: top;\n",
              "    }\n",
              "\n",
              "    .dataframe thead th {\n",
              "        text-align: right;\n",
              "    }\n",
              "</style>\n",
              "<table border=\"1\" class=\"dataframe\">\n",
              "  <thead>\n",
              "    <tr style=\"text-align: right;\">\n",
              "      <th></th>\n",
              "      <th>Cluster</th>\n",
              "      <th>Frequency</th>\n",
              "      <th>MonetaryValue</th>\n",
              "      <th>Recency</th>\n",
              "    </tr>\n",
              "    <tr>\n",
              "      <th>Cluster</th>\n",
              "      <th></th>\n",
              "      <th></th>\n",
              "      <th></th>\n",
              "      <th></th>\n",
              "    </tr>\n",
              "  </thead>\n",
              "  <tbody>\n",
              "    <tr>\n",
              "      <th>0</th>\n",
              "      <td>NaN</td>\n",
              "      <td>1.073687</td>\n",
              "      <td>1.251856</td>\n",
              "      <td>-0.583125</td>\n",
              "    </tr>\n",
              "    <tr>\n",
              "      <th>1</th>\n",
              "      <td>NaN</td>\n",
              "      <td>-0.566482</td>\n",
              "      <td>-0.707823</td>\n",
              "      <td>-0.570779</td>\n",
              "    </tr>\n",
              "    <tr>\n",
              "      <th>2</th>\n",
              "      <td>NaN</td>\n",
              "      <td>-0.557770</td>\n",
              "      <td>-0.610126</td>\n",
              "      <td>1.048910</td>\n",
              "    </tr>\n",
              "  </tbody>\n",
              "</table>\n",
              "</div>"
            ],
            "text/plain": [
              "         Cluster  Frequency  MonetaryValue   Recency\n",
              "Cluster                                             \n",
              "0            NaN   1.073687       1.251856 -0.583125\n",
              "1            NaN  -0.566482      -0.707823 -0.570779\n",
              "2            NaN  -0.557770      -0.610126  1.048910"
            ]
          },
          "execution_count": 28,
          "metadata": {},
          "output_type": "execute_result"
        }
      ],
      "source": [
        "cluster_avg = customers.groupby('Cluster').mean()\n",
        "population_avg = customers.mean()\n",
        "relative_imp = cluster_avg / population_avg - 1\n",
        "relative_imp"
      ]
    },
    {
      "cell_type": "markdown",
      "metadata": {
        "id": "5lexWs_VZw8m"
      },
      "source": [
        "### References\n",
        "Daqing C., Sai L.S, and Kun G., Data mining for the online retail industry: A case study of RFM model-based customer segmentation using data mining (2012), Journal of Database Marketing and Customer Strategy Management.<br>\n",
        "K. Jarrod Millman and Michael Aivazis. Python for Scientists and Engineers(2011). Computing in Science & Engineering.<br>\n",
        "https://towardsdatascience.com/top-3-methods-for-handling-skewed-data-1334e0debf45<br>\n",
        "https://www.geeksforgeeks.org/elbow-method-for-optimal-value-of-k-in-kmeans/"
      ]
    }
  ],
  "metadata": {
    "colab": {
      "name": "Customer Segmentation in Python.ipynb",
      "provenance": []
    },
    "kernelspec": {
      "display_name": "Python 3.9.12 ('base')",
      "language": "python",
      "name": "python3"
    },
    "language_info": {
      "codemirror_mode": {
        "name": "ipython",
        "version": 3
      },
      "file_extension": ".py",
      "mimetype": "text/x-python",
      "name": "python",
      "nbconvert_exporter": "python",
      "pygments_lexer": "ipython3",
      "version": "3.9.12"
    },
    "vscode": {
      "interpreter": {
        "hash": "b1a52f7382dfee75cc10e9f58651660800494e82e2f7a1d958e6b98820c42c44"
      }
    }
  },
  "nbformat": 4,
  "nbformat_minor": 0
}
